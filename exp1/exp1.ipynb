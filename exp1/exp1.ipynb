{
 "cells": [
  {
   "cell_type": "markdown",
   "id": "different-german",
   "metadata": {
    "ExecuteTime": {
     "end_time": "2021-03-29T08:22:01.617606Z",
     "start_time": "2021-03-29T08:22:01.614353Z"
    }
   },
   "source": [
    "# 实验课1：基于模板的手写数字识别"
   ]
  },
  {
   "cell_type": "code",
   "execution_count": 1,
   "id": "educated-balloon",
   "metadata": {},
   "outputs": [],
   "source": [
    "import pandas as pd\n",
    "import numpy as np\n",
    "import os\n",
    "import cv2\n",
    "from matplotlib import pyplot as plt"
   ]
  },
  {
   "cell_type": "markdown",
   "id": "accurate-bachelor",
   "metadata": {},
   "source": [
    "### 标准模板库制作"
   ]
  },
  {
   "cell_type": "markdown",
   "id": "occasional-think",
   "metadata": {},
   "source": [
    "+ 灰度化"
   ]
  },
  {
   "cell_type": "code",
   "execution_count": 2,
   "id": "blessed-domestic",
   "metadata": {},
   "outputs": [],
   "source": [
    "def graying(img):\n",
    "    img =cv2.cvtColor(img,cv2.COLOR_BGR2GRAY)\n",
    "    ret,thresh=cv2.threshold(img,100,255,cv2.THRESH_BINARY)\n",
    "    img = thresh\n",
    "    return thresh"
   ]
  },
  {
   "cell_type": "markdown",
   "id": "opening-galaxy",
   "metadata": {},
   "source": [
    "+ 基于matplotlib和jupyter的特殊opencv图像显示方式"
   ]
  },
  {
   "cell_type": "code",
   "execution_count": 3,
   "id": "minute-graduate",
   "metadata": {},
   "outputs": [],
   "source": [
    "def imshow(img):\n",
    "    img2 = cv2.cvtColor(img, cv2.COLOR_BGR2RGB)\n",
    "    plt.subplot(122)\n",
    "    plt.xticks([]), plt.yticks([])\n",
    "    plt.imshow(img2)"
   ]
  },
  {
   "cell_type": "markdown",
   "id": "understood-berry",
   "metadata": {},
   "source": [
    "+ 裁剪图片\n",
    "  1. 利用findContours找到边缘\n",
    "  2. 利用找到的边缘进行筛选和切割"
   ]
  },
  {
   "cell_type": "code",
   "execution_count": 4,
   "id": "early-dynamics",
   "metadata": {},
   "outputs": [],
   "source": [
    "def splitImg(img):\n",
    "    #img = graying(img)\n",
    "    contours,hierarchy = cv2.findContours(img,cv2.RETR_EXTERNAL,cv2.CHAIN_APPROX_SIMPLE)\n",
    "    for i in range(len(contours)):\n",
    "        x,y,w,h = cv2.boundingRect(contours[i])\n",
    "        #print([x,y,w,h])\n",
    "    img = img[y:y+h,x:x+w]\n",
    "    return img"
   ]
  },
  {
   "cell_type": "markdown",
   "id": "convenient-stable",
   "metadata": {},
   "source": [
    "+ 依据5x5标准进行标准化，得到标准化后的矩阵值\n",
    "  + 计算每个单元格w与h时，采用对小数点后的位数四舍五入，并特殊处理最后一个单元格"
   ]
  },
  {
   "cell_type": "code",
   "execution_count": 5,
   "id": "rapid-malaysia",
   "metadata": {},
   "outputs": [],
   "source": [
    "def standard(img):\n",
    "    w,h = img.shape[1],img.shape[0]\n",
    "    w_i,h_i=[],[]\n",
    "    n_grids = 10\n",
    "    # 计算每一个单元格w与h的大小\n",
    "    '''if w%5 != 0:\n",
    "        if w%5 > 5:\n",
    "            for i in range(4):w_i.append(w//5+1)\n",
    "            w_i.append(w_i[0]*5-w+w//5)\n",
    "        else:\n",
    "            for i in range(4):w_i.append(w//5)\n",
    "            w_i.append(w-w_i[0]*4)\n",
    "    else:\n",
    "        for i in range(5):w_i.append(w//5)\n",
    "    \n",
    "    if h%5 != 0:\n",
    "        if h%5 > 5:\n",
    "            for i in range(4):h_i.append(h//5+1)\n",
    "            h_i.append(h_i[0]*5-h+h//5)\n",
    "        else:\n",
    "            for i in range(4):h_i.append(h//5)\n",
    "            h_i.append(h-h_i[0]*4)\n",
    "    else:\n",
    "        for i in range(5):h_i.append(h//5)'''\n",
    "    for i in range(n_grids):w_i.append(w//n_grids)\n",
    "    for i in range(n_grids):h_i.append(w//n_grids)\n",
    "    # 归一化\n",
    "    loss = 0.2\n",
    "    w_end,h_end = 0,0\n",
    "    arr_matrix = []\n",
    "    for i in range(n_grids):\n",
    "        col = w_end\n",
    "        w_end += w_i[i]\n",
    "        h_end = 0\n",
    "        for j in range(n_grids):\n",
    "            count = 0\n",
    "            count_a = 0\n",
    "            row = h_end\n",
    "            col = w_end-w_i[i]\n",
    "            h_end += h_i[j]\n",
    "            while col<w_end:\n",
    "                row = h_end-h_i[j]\n",
    "                while row<h_end:\n",
    "                    if img[row,col] > 150:\n",
    "                        \n",
    "                        count +=1\n",
    "                    count_a +=1\n",
    "                    row +=1\n",
    "                col +=1\n",
    "            if count/count_a > loss:\n",
    "                arr_matrix.append(1)\n",
    "            else:\n",
    "                arr_matrix.append(0)\n",
    "            \n",
    "    matrix = np.array(arr_matrix).reshape(n_grids,n_grids).T\n",
    "    return matrix"
   ]
  },
  {
   "cell_type": "markdown",
   "id": "conscious-experiment",
   "metadata": {},
   "source": [
    "+ 构造所有训练图像的标准库"
   ]
  },
  {
   "cell_type": "code",
   "execution_count": 60,
   "id": "satisfactory-florence",
   "metadata": {
    "tags": []
   },
   "outputs": [],
   "source": [
    "#图片地址\n",
    "def getTrain():\n",
    "    local = './data/train-images/'\n",
    "    if_train = 1\n",
    "    if os.path.exists(r\"./data/output.csv\"):\n",
    "        input_f_csv = pd.read_csv(\"./data/output.csv\",index_col=0)\n",
    "        #print(input_f_csv.shape)\n",
    "        #print(input_f_csv)\n",
    "        if input_f_csv.shape[0] == 10 and input_f_csv.shape[1] == 100:\n",
    "            if_train = 0\n",
    "            std_library = input_f_csv\n",
    "        else:\n",
    "            os.remove(r\"./data/output.csv\")\n",
    "    if if_train:\n",
    "        std_library = pd.DataFrame(columns=range(100))#1-->100\n",
    "        for n in range(10):#1-->10\n",
    "            arr_ =[]\n",
    "            for m in range(100):#1-->100\n",
    "                img = cv2.imread(\"%s%s_%s.bmp\"%(local,n,m))\n",
    "                img = graying(img)\n",
    "                img = splitImg(img)\n",
    "                img = cv2.resize(img,(50,50))\n",
    "                ret,img = cv2.threshold(img,100,255,cv2.THRESH_BINARY)\n",
    "                std_matrix = standard(img)\n",
    "                str_std = ''\n",
    "                for i in std_matrix.tolist():str_std = \"%s,%s\"%(str_std,\",\".join(map(str,i)))\n",
    "                arr_.append(str_std[1:])\n",
    "                # print(std_matrix)\n",
    "            std_library.loc[n] = arr_\n",
    "\n",
    "        #print(std_library)\n",
    "        std_library.to_csv(\"./data/output.csv\")\n",
    "        #imshow(img)\n",
    "        print(\"Start from creating.\")\n",
    "    else:\n",
    "        print(\"Start from CSV file.\")\n",
    "    \n",
    "    return std_library\n",
    "\n",
    "\n",
    "# 转字符串为numpy矩阵\n",
    "# np.array(list(map(int,str_std[1:].split(',')))).reshape(10,10)\n"
   ]
  },
  {
   "cell_type": "markdown",
   "id": "smaller-discipline",
   "metadata": {},
   "source": [
    "### 读入测试集并与标准库比对"
   ]
  },
  {
   "cell_type": "code",
   "execution_count": 62,
   "id": "related-blackberry",
   "metadata": {},
   "outputs": [
    {
     "name": "stdout",
     "output_type": "stream",
     "text": [
      "Start from CSV file.\n",
      "{'0_0': 0, '0_1': 0, '0_2': 0, '0_3': 0, '0_4': 0, '0_5': 0, '0_6': 0, '0_7': 0, '0_8': 0, '0_9': 0, '0_10': 0, '0_11': 0, '0_12': 0, '0_13': 0, '0_14': 0, '0_15': 0, '0_16': 0, '0_17': 0, '0_18': 0, '0_19': 0, '1_0': 1, '1_1': 1, '1_2': 1, '1_3': 1, '1_4': 1, '1_5': 1, '1_6': 1, '1_7': 1, '1_8': 1, '1_9': 1, '1_10': 1, '1_11': 1, '1_12': 1, '1_13': 1, '1_14': 1, '1_15': 1, '1_16': 1, '1_17': 1, '1_18': 1, '1_19': 1, '2_0': 2, '2_1': 2, '2_2': 2, '2_3': 2, '2_4': 2, '2_5': 2, '2_6': 2, '2_7': 2, '2_8': 2, '2_9': 2, '2_10': 2, '2_11': 2, '2_12': 2, '2_13': 2, '2_14': 2, '2_15': 2, '2_16': 2, '2_17': 2, '2_18': 2, '2_19': 2, '3_0': 3, '3_1': 3, '3_2': 3, '3_3': 3, '3_4': 3, '3_5': 3, '3_6': 3, '3_7': 3, '3_8': 3, '3_9': 3, '3_10': 3, '3_11': 3, '3_12': 3, '3_13': 3, '3_14': 3, '3_15': 3, '3_16': 3, '3_17': 3, '3_18': 3, '3_19': 3, '4_0': 4, '4_1': 4, '4_2': 4, '4_3': 4, '4_4': 4, '4_5': 4, '4_6': 4, '4_7': 4, '4_8': 4, '4_9': 4, '4_10': 4, '4_11': 4, '4_12': 4, '4_13': 4, '4_14': 4, '4_15': 4, '4_16': 4, '4_17': 4, '4_18': 4, '4_19': 4, '5_0': 5, '5_1': 5, '5_2': 5, '5_3': 5, '5_4': 5, '5_5': 5, '5_6': 5, '5_7': 5, '5_8': 5, '5_9': 5, '5_10': 5, '5_11': 5, '5_12': 5, '5_13': 5, '5_14': 5, '5_15': 5, '5_16': 5, '5_17': 5, '5_18': 5, '5_19': 5, '6_0': 6, '6_1': 6, '6_2': 6, '6_3': 6, '6_4': 6, '6_5': 6, '6_6': 6, '6_7': 6, '6_8': 6, '6_9': 6, '6_10': 6, '6_11': 6, '6_12': 6, '6_13': 6, '6_14': 6, '6_15': 6, '6_16': 6, '6_17': 6, '6_18': 6, '6_19': 6, '7_0': 7, '7_1': 7, '7_2': 7, '7_3': 7, '7_4': 7, '7_5': 7, '7_6': 7, '7_7': 7, '7_8': 7, '7_9': 7, '7_10': 7, '7_11': 7, '7_12': 7, '7_13': 7, '7_14': 7, '7_15': 7, '7_16': 7, '7_17': 7, '7_18': 7, '7_19': 7, '8_0': 8, '8_1': 8, '8_2': 8, '8_3': 8, '8_4': 8, '8_5': 8, '8_6': 8, '8_7': 8, '8_8': 8, '8_9': 8, '8_10': 8, '8_11': 8, '8_12': 8, '8_13': 8, '8_14': 8, '8_15': 8, '8_16': 8, '8_17': 8, '8_18': 8, '8_19': 8, '9_0': 9, '9_1': 9, '9_2': 9, '9_3': 9, '9_4': 9, '9_5': 9, '9_6': 9, '9_7': 9, '9_8': 9, '9_9': 9, '9_10': 9, '9_11': 9, '9_12': 9, '9_13': 9, '9_14': 9, '9_15': 9, '9_16': 9, '9_17': 9, '9_18': 9, '9_19': 9}\n",
      "CPU times: user 4.28 s, sys: 0 ns, total: 4.28 s\n",
      "Wall time: 4.31 s\n"
     ]
    }
   ],
   "source": [
    "%%time\n",
    "local_test = './data/test-images/'\n",
    "dic_output = {}\n",
    "std_library = getTrain()\n",
    "for n in range(10):#1-->10\n",
    "    for m in range(20):#1-->20\n",
    "        img = cv2.imread(\"%s%s_%s.bmp\"%(local_test,n,m))\n",
    "        img = graying(img)\n",
    "        img = splitImg(img)\n",
    "        img = cv2.resize(img,(50,50))\n",
    "        ret,img = cv2.threshold(img,100,255,cv2.THRESH_BINARY)\n",
    "        train_matrix = standard(img)\n",
    "        #print(train_matrix)\n",
    "        for row in std_library.itertuples():\n",
    "            hit = 0\n",
    "            for i in range(1,101):#2-->101\n",
    "                now_str = getattr(row,\"_%s\"%i)\n",
    "                now_matrix = np.array(list(map(int,now_str.split(',')))).reshape(10,10)\n",
    "                sub = now_matrix-train_matrix\n",
    "                if np.sum(sub==0)/100 > hit: \n",
    "                    hit = np.sum(sub==0)/100\n",
    "                if hit == 1.0:\n",
    "                    break\n",
    "            if hit == 1.0:\n",
    "                str_name = \"%s_%s\"%(n,m)\n",
    "                dic_output[str_name] = row.Index\n",
    "                #print(row.Index)\n",
    "                break\n",
    "print(dic_output)"
   ]
  },
  {
   "cell_type": "code",
   "execution_count": null,
   "id": "received-coordinator",
   "metadata": {},
   "outputs": [],
   "source": []
  }
 ],
 "metadata": {
  "kernelspec": {
   "display_name": "Python 3",
   "language": "python",
   "name": "python3"
  },
  "language_info": {
   "codemirror_mode": {
    "name": "ipython",
    "version": 3
   },
   "file_extension": ".py",
   "mimetype": "text/x-python",
   "name": "python",
   "nbconvert_exporter": "python",
   "pygments_lexer": "ipython3",
   "version": "3.7.10"
  },
  "toc-autonumbering": false,
  "toc-showcode": false,
  "toc-showmarkdowntxt": false,
  "toc-showtags": false
 },
 "nbformat": 4,
 "nbformat_minor": 5
}
