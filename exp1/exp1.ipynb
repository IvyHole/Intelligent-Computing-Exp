{
 "cells": [
  {
   "cell_type": "markdown",
   "id": "complex-revolution",
   "metadata": {
    "ExecuteTime": {
     "end_time": "2021-03-29T08:22:01.617606Z",
     "start_time": "2021-03-29T08:22:01.614353Z"
    }
   },
   "source": [
    "# 实验课1：基于模板的手写数字识别"
   ]
  },
  {
   "cell_type": "code",
   "execution_count": 1,
   "id": "controlled-tracy",
   "metadata": {},
   "outputs": [],
   "source": [
    "import pandas as pd\n",
    "import numpy as np\n",
    "import os\n",
    "import cv2\n",
    "from matplotlib import pyplot as plt"
   ]
  },
  {
   "cell_type": "markdown",
   "id": "geographic-abuse",
   "metadata": {},
   "source": [
    "### 标准模板库制作"
   ]
  },
  {
   "cell_type": "markdown",
   "id": "cubic-diploma",
   "metadata": {},
   "source": [
    "+ 灰度化"
   ]
  },
  {
   "cell_type": "code",
   "execution_count": 2,
   "id": "capital-isolation",
   "metadata": {},
   "outputs": [],
   "source": [
    "def graying(img):\n",
    "    img =cv2.cvtColor(img,cv2.COLOR_BGR2GRAY)\n",
    "    ret,thresh=cv2.threshold(img,100,255,cv2.THRESH_BINARY)\n",
    "    img = thresh\n",
    "    return thresh"
   ]
  },
  {
   "cell_type": "markdown",
   "id": "hidden-forwarding",
   "metadata": {},
   "source": [
    "+ 基于matplotlib和jupyter的特殊opencv图像显示方式"
   ]
  },
  {
   "cell_type": "code",
   "execution_count": 3,
   "id": "experimental-stylus",
   "metadata": {},
   "outputs": [],
   "source": [
    "def imshow(img):\n",
    "    img2 = cv2.cvtColor(img, cv2.COLOR_BGR2RGB)\n",
    "    plt.subplot(122)\n",
    "    plt.xticks([]), plt.yticks([])\n",
    "    plt.imshow(img2)"
   ]
  },
  {
   "cell_type": "markdown",
   "id": "associate-staff",
   "metadata": {},
   "source": [
    "+ 裁剪图片\n",
    "  1. 利用findContours找到边缘\n",
    "  2. 利用找到的边缘进行筛选和切割"
   ]
  },
  {
   "cell_type": "code",
   "execution_count": 4,
   "id": "atmospheric-latitude",
   "metadata": {},
   "outputs": [],
   "source": [
    "def splitImg(img):\n",
    "    #img = graying(img)\n",
    "    contours,hierarchy = cv2.findContours(img,cv2.RETR_EXTERNAL,cv2.CHAIN_APPROX_SIMPLE)\n",
    "    for i in range(len(contours)):\n",
    "        x,y,w,h = cv2.boundingRect(contours[i])\n",
    "        #print([x,y,w,h])\n",
    "    img = img[y:y+h,x:x+w]\n",
    "    return img"
   ]
  },
  {
   "cell_type": "markdown",
   "id": "natural-lyric",
   "metadata": {},
   "source": [
    "+ 依据5x5标准进行标准化，得到标准化后的矩阵值\n",
    "  + 计算每个单元格w与h时，采用对小数点后的位数四舍五入，并特殊处理最后一个单元格"
   ]
  },
  {
   "cell_type": "code",
   "execution_count": 9,
   "id": "accessory-assurance",
   "metadata": {},
   "outputs": [],
   "source": [
    "def standard(img):\n",
    "    w,h = img.shape[1],img.shape[0]\n",
    "    w_i,h_i=[],[]\n",
    "    n_grids = 10\n",
    "    for i in range(n_grids):w_i.append(w//n_grids)\n",
    "    for i in range(n_grids):h_i.append(w//n_grids)\n",
    "    # 归一化\n",
    "    loss = 0.5\n",
    "    w_end,h_end = 0,0\n",
    "    arr_matrix = []\n",
    "    percent = []\n",
    "    for i in range(n_grids):\n",
    "        col = w_end\n",
    "        w_end += w_i[i]\n",
    "        h_end = 0\n",
    "        for j in range(n_grids):\n",
    "            count = 0\n",
    "            count_a = 0\n",
    "            row = h_end\n",
    "            col = w_end-w_i[i]\n",
    "            h_end += h_i[j]\n",
    "            while col<w_end:\n",
    "                row = h_end-h_i[j]\n",
    "                while row<h_end:\n",
    "                    if img[row,col] > 150:\n",
    "                        count +=1\n",
    "                    count_a +=1\n",
    "                    row +=1\n",
    "                col +=1\n",
    "            percent.append(count/count_a)\n",
    "            if count/count_a > loss:\n",
    "                arr_matrix.append(1)\n",
    "            else:\n",
    "                arr_matrix.append(0)\n",
    "    matrix = np.array(arr_matrix).reshape(n_grids,n_grids).T\n",
    "    return matrix,percent"
   ]
  },
  {
   "cell_type": "markdown",
   "id": "associate-engineer",
   "metadata": {},
   "source": [
    "+ 构造所有训练图像的标准库"
   ]
  },
  {
   "cell_type": "code",
   "execution_count": 10,
   "id": "human-auditor",
   "metadata": {
    "tags": []
   },
   "outputs": [],
   "source": [
    "#图片地址\n",
    "def getTrain():\n",
    "    local = './data/train-images/'\n",
    "    if_train = 1\n",
    "    if os.path.exists(r\"./data/output.csv\"):\n",
    "        input_f_csv = pd.read_csv(\"./data/output.csv\",index_col=0)\n",
    "        #print(input_f_csv.shape)\n",
    "        #print(input_f_csv)\n",
    "        if input_f_csv.shape[0] == 10 and input_f_csv.shape[1] == 100:\n",
    "            if_train = 0\n",
    "            std_library = input_f_csv\n",
    "        else:\n",
    "            os.remove(r\"./data/output.csv\")\n",
    "    if if_train:\n",
    "        std_library = pd.DataFrame(columns=range(100))#1-->100\n",
    "        std_library_pcr = pd.DataFrame(columns=range(100))#1-->100\n",
    "        for n in range(10):#1-->10\n",
    "            arr_ =[]\n",
    "            arr2_=[]\n",
    "            for m in range(100):#1-->100\n",
    "                img = cv2.imread(\"%s%s_%s.bmp\"%(local,n,m))\n",
    "                img = graying(img)\n",
    "                img = splitImg(img)\n",
    "                img = cv2.resize(img,(100,100))\n",
    "                ret,img = cv2.threshold(img,100,255,cv2.THRESH_BINARY)\n",
    "                cv2.imwrite(\"./data/std-images/%s_%s.bmp\"%(n,m),img)\n",
    "                std_matrix,pcr = standard(img)\n",
    "                str_std= ''\n",
    "                str_pcr = \",\".join(map(str,pcr))\n",
    "                for i in std_matrix.tolist():str_std = \"%s,%s\"%(str_std,\",\".join(map(str,i)))\n",
    "                arr_.append(str_std[1:])\n",
    "                arr2_.append(str_pcr[1:])\n",
    "                # print(std_matrix)\n",
    "            std_library.loc[n] = arr_\n",
    "            std_library_pcr.loc[n] = arr2_\n",
    "        #print(std_library)\n",
    "        std_library.to_csv(\"./data/output.csv\")\n",
    "        std_library_pcr.to_csv(\"./data/output_pcr.csv\")\n",
    "        #imshow(img)\n",
    "        print(\"Start from creating.\")\n",
    "    else:\n",
    "        print(\"Start from CSV file.\")\n",
    "    \n",
    "    return std_library\n",
    "\n",
    "\n",
    "# 转字符串为numpy矩阵\n",
    "# np.array(list(map(int,str_std[1:].split(',')))).reshape(10,10)\n"
   ]
  },
  {
   "cell_type": "markdown",
   "id": "hybrid-consultancy",
   "metadata": {},
   "source": [
    "### 读入测试集并与标准库比对"
   ]
  },
  {
   "cell_type": "code",
   "execution_count": 11,
   "id": "disabled-secondary",
   "metadata": {},
   "outputs": [
    {
     "name": "stdout",
     "output_type": "stream",
     "text": [
      "Start from creating.\n",
      "CPU times: user 13.2 s, sys: 59.4 ms, total: 13.3 s\n",
      "Wall time: 13.4 s\n"
     ]
    },
    {
     "data": {
      "text/plain": [
       "'\\nfor n in range(10):#1-->10\\n    sc,no,re = 0,0,0\\n    for m in range(20):#1-->20\\n        img = cv2.imread(\"%s%s_%s.bmp\"%(local_test,n,m))\\n        img = graying(img)\\n        img = splitImg(img)\\n        img = cv2.resize(img,(100,100))\\n        ret,img = cv2.threshold(img,100,255,cv2.THRESH_BINARY)\\n        train_matrix = standard(img)\\n        #print(train_matrix)\\n        hit,index,cols = 100,0,0\\n        for row in std_library.itertuples():\\n\\n            for i in range(1,101):#2-->101\\n                now_str = getattr(row,\"_%s\"%i)\\n                now_matrix = np.array(list(map(int,now_str.split(\\',\\')))).reshape(10,10)\\n                sub = np.sqrt(np.sum(np.square(now_matrix-train_matrix)))\\n                if sub < hit: \\n                    hit = sub\\n                    index = row.Index\\n                    cols = i\\n        if hit <= 15 :\\n        # 识别正确\\n            sc +=1\\n            str_name = \"%s_%s\"%(n,m)\\n            dic_output[str_name] = \"%s_%s\"%(index,i)\\n        elif hit <30 and 15<hit:\\n        # 识别错误\\n            no +=1\\n            str_name = \"%s_%s\"%(n,m)\\n            dic_output[str_name] = \"fail\"\\n        elif hit >=30:\\n        # 拒绝识别\\n            re +=1\\n            str_name = \"%s_%s\"%(n,m)\\n            dic_output[str_name] = \"refuse\"\\n    \\n    output_[\"%s\"%n] = \"%s,%s,%s\"%(sc,no,re)\\n    \\nprint(output_)'"
      ]
     },
     "execution_count": 11,
     "metadata": {},
     "output_type": "execute_result"
    }
   ],
   "source": [
    "%%time\n",
    "local_test = './data/test-images/'\n",
    "dic_output = {}\n",
    "output_ = {}\n",
    "std_library = getTrain()\n",
    "for n in range(10):#1-->10\n",
    "    sc,no,re = 0,0,0\n",
    "    for m in range(20):#1-->20\n",
    "        img = cv2.imread(\"%s%s_%s.bmp\"%(local_test,n,m))\n",
    "        img = graying(img)\n",
    "        img = splitImg(img)\n",
    "        img = cv2.resize(img,(100,100))\n",
    "        ret,img = cv2.threshold(img,100,255,cv2.THRESH_BINARY)\n",
    "        train_matrix = standard(img)\n",
    "        #print(train_matrix)\n",
    "        hit,index,cols = 100,0,0\n",
    "        for row in std_library.itertuples():\n",
    "\n",
    "            for i in range(1,101):#2-->101\n",
    "                now_str = getattr(row,\"_%s\"%i)\n",
    "                now_matrix = np.array(list(map(int,now_str.split(',')))).reshape(10,10)\n",
    "                sub = np.sqrt(np.sum(np.square(now_matrix-train_matrix)))\n",
    "                if sub < hit: \n",
    "                    hit = sub\n",
    "                    index = row.Index\n",
    "                    cols = i\n",
    "        if hit <= 15 :\n",
    "        # 识别正确\n",
    "            sc +=1\n",
    "            str_name = \"%s_%s\"%(n,m)\n",
    "            dic_output[str_name] = \"%s_%s\"%(index,i)\n",
    "        elif hit <30 and 15<hit:\n",
    "        # 识别错误\n",
    "            no +=1\n",
    "            str_name = \"%s_%s\"%(n,m)\n",
    "            dic_output[str_name] = \"fail\"\n",
    "        elif hit >=30:\n",
    "        # 拒绝识别\n",
    "            re +=1\n",
    "            str_name = \"%s_%s\"%(n,m)\n",
    "            dic_output[str_name] = \"refuse\"\n",
    "    \n",
    "    output_[\"%s\"%n] = \"%s,%s,%s\"%(sc,no,re)\n",
    "    \n",
    "print(output_)"
   ]
  },
  {
   "cell_type": "code",
   "execution_count": null,
   "id": "prepared-hearing",
   "metadata": {},
   "outputs": [],
   "source": []
  }
 ],
 "metadata": {
  "kernelspec": {
   "display_name": "Python 3",
   "language": "python",
   "name": "python3"
  },
  "language_info": {
   "codemirror_mode": {
    "name": "ipython",
    "version": 3
   },
   "file_extension": ".py",
   "mimetype": "text/x-python",
   "name": "python",
   "nbconvert_exporter": "python",
   "pygments_lexer": "ipython3",
   "version": "3.7.10"
  },
  "toc-autonumbering": false,
  "toc-showcode": false,
  "toc-showmarkdowntxt": false,
  "toc-showtags": false
 },
 "nbformat": 4,
 "nbformat_minor": 5
}
